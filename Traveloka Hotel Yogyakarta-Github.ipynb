{
 "cells": [
  {
   "cell_type": "code",
   "execution_count": 2,
   "id": "333a1805-69b3-475c-a995-86e545087c53",
   "metadata": {},
   "outputs": [],
   "source": [
    "import requests\n",
    "import time\n",
    "from bs4 import BeautifulSoup\n",
    "from selenium import webdriver\n",
    "from selenium.webdriver.common.keys import Keys #to be able to click/input\n",
    "from selenium.webdriver.support.ui import WebDriverWait #wait excplicit\n",
    "from selenium.webdriver.support import expected_conditions as EC #wait explicit\n",
    "from selenium.webdriver.common.by import By #find_element\n",
    "from selenium.common.exceptions import NoSuchElementException, StaleElementReferenceException, ElementClickInterceptedException\n",
    "from tabulate import tabulate\n",
    "import pandas as pd\n",
    "from pandas.errors import InvalidIndexError\n",
    "import numpy as np"
   ]
  },
  {
   "cell_type": "code",
   "execution_count": 3,
   "id": "0dd1a101-ac0d-47a5-b2c5-fe1f95f91ab9",
   "metadata": {},
   "outputs": [],
   "source": [
    "driver = webdriver.Chrome()\n",
    "\n",
    "# Can change the date here (currently: 14-09-2024.15-09-2024)\n",
    "url = 'https://www.traveloka.com/en-id/hotel/search?spec=13-09-2024.14-09-2024.1.1.HOTEL_GEO.107442.Yogyakarta.2' \n",
    "\n",
    "driver.get(url)"
   ]
  },
  {
   "cell_type": "code",
   "execution_count": 4,
   "id": "f82e93df-65a8-4e46-8630-a443006f8dbe",
   "metadata": {
    "scrolled": true
   },
   "outputs": [
    {
     "name": "stdout",
     "output_type": "stream",
     "text": [
      "Progress: 0 hotel information retrieval attempt(s) done\n",
      "Progress: 50 hotel information retrieval attempt(s) done\n",
      "Progress: 200 hotel information retrieval attempt(s) done\n",
      "Progress: 250 hotel information retrieval attempt(s) done\n"
     ]
    }
   ],
   "source": [
    "# Note: This will only catch hotels that have all three information completed (name, price, stars), otherwise it would be skipped (as intended)\n",
    "\n",
    "driver.execute_script(\"window.scrollTo(0, 0);\")\n",
    "hotel = []\n",
    "for i in range(0,300):\n",
    "    found = False\n",
    "    while not found:\n",
    "        try:\n",
    "            card = driver.find_element(By.CSS_SELECTOR, f\"div[data-index='{i}']\")\n",
    "            found = True\n",
    "        except NoSuchElementException:\n",
    "            driver.execute_script(\"window.scrollBy(0, 1000);\")\n",
    "            time.sleep(1) \n",
    "    try:\n",
    "        name = card.find_element(By.CLASS_NAME, 'css-4rbku5.css-901oao.css-cens5h.r-a5wbuh.r-ubezar.r-b88u0q.r-rjixqe.r-fdjqy7').text\n",
    "        price = card.find_element(By.CLASS_NAME, 'css-901oao.r-a5wbuh.r-b88u0q.r-135wba7.r-1ff274t').text\n",
    "        stars = card.find_element(By.CSS_SELECTOR, \"div[data-id='tvat-starRating']\")\n",
    "        star = stars.find_elements(By.TAG_NAME, 'img')\n",
    "        listhotel = {\n",
    "                'Nama Hotel': name,\n",
    "                'Harga Sewa/Malam': price,\n",
    "                'Bintang': len(star)\n",
    "        }\n",
    "        hotel.append(listhotel)\n",
    "    except NoSuchElementException as ads:\n",
    "        continue\n",
    "\n",
    "    if i % 50 == 0:\n",
    "        print(f\"Progress: {i} hotel information retrieval attempt(s) done\")"
   ]
  },
  {
   "cell_type": "code",
   "execution_count": 6,
   "id": "17a82f0f-efc0-4142-8d88-06e322fd0002",
   "metadata": {},
   "outputs": [
    {
     "data": {
      "text/html": [
       "<div>\n",
       "<style scoped>\n",
       "    .dataframe tbody tr th:only-of-type {\n",
       "        vertical-align: middle;\n",
       "    }\n",
       "\n",
       "    .dataframe tbody tr th {\n",
       "        vertical-align: top;\n",
       "    }\n",
       "\n",
       "    .dataframe thead th {\n",
       "        text-align: right;\n",
       "    }\n",
       "</style>\n",
       "<table border=\"1\" class=\"dataframe\">\n",
       "  <thead>\n",
       "    <tr style=\"text-align: right;\">\n",
       "      <th></th>\n",
       "      <th>Nama Hotel</th>\n",
       "      <th>Harga Sewa/Malam</th>\n",
       "      <th>Bintang</th>\n",
       "    </tr>\n",
       "  </thead>\n",
       "  <tbody>\n",
       "    <tr>\n",
       "      <th>0</th>\n",
       "      <td>Hotel Neo Malioboro by ASTON</td>\n",
       "      <td>Rp 1.209.091</td>\n",
       "      <td>3</td>\n",
       "    </tr>\n",
       "    <tr>\n",
       "      <th>1</th>\n",
       "      <td>Royal Malioboro by ASTON</td>\n",
       "      <td>Rp 1.651.876</td>\n",
       "      <td>4</td>\n",
       "    </tr>\n",
       "    <tr>\n",
       "      <th>2</th>\n",
       "      <td>The Rich Jogja Hotel</td>\n",
       "      <td>Rp 483.471</td>\n",
       "      <td>4</td>\n",
       "    </tr>\n",
       "    <tr>\n",
       "      <th>3</th>\n",
       "      <td>SATORIA Hotel Yogyakarta</td>\n",
       "      <td>Rp 495.868</td>\n",
       "      <td>4</td>\n",
       "    </tr>\n",
       "    <tr>\n",
       "      <th>4</th>\n",
       "      <td>Arte Hotel Malioboro Yogyakarta</td>\n",
       "      <td>Rp 661.157</td>\n",
       "      <td>3</td>\n",
       "    </tr>\n",
       "    <tr>\n",
       "      <th>...</th>\n",
       "      <td>...</td>\n",
       "      <td>...</td>\n",
       "      <td>...</td>\n",
       "    </tr>\n",
       "    <tr>\n",
       "      <th>230</th>\n",
       "      <td>PYRENEES Malioboro Hotel</td>\n",
       "      <td>Rp 703.525</td>\n",
       "      <td>2</td>\n",
       "    </tr>\n",
       "    <tr>\n",
       "      <th>231</th>\n",
       "      <td>Rumah Palagan Residence</td>\n",
       "      <td>Rp 185.950</td>\n",
       "      <td>2</td>\n",
       "    </tr>\n",
       "    <tr>\n",
       "      <th>232</th>\n",
       "      <td>Tirta Sanita Hotel</td>\n",
       "      <td>Rp 132.231</td>\n",
       "      <td>1</td>\n",
       "    </tr>\n",
       "    <tr>\n",
       "      <th>233</th>\n",
       "      <td>RedDoorz Plus @ Pogung Raya</td>\n",
       "      <td>Rp 136.001</td>\n",
       "      <td>2</td>\n",
       "    </tr>\n",
       "    <tr>\n",
       "      <th>234</th>\n",
       "      <td>RedDoorz Syariah @ Babadan Baru Jakal</td>\n",
       "      <td>Rp 316.160</td>\n",
       "      <td>1</td>\n",
       "    </tr>\n",
       "  </tbody>\n",
       "</table>\n",
       "<p>235 rows × 3 columns</p>\n",
       "</div>"
      ],
      "text/plain": [
       "                                Nama Hotel Harga Sewa/Malam  Bintang\n",
       "0             Hotel Neo Malioboro by ASTON     Rp 1.209.091        3\n",
       "1                 Royal Malioboro by ASTON     Rp 1.651.876        4\n",
       "2                     The Rich Jogja Hotel       Rp 483.471        4\n",
       "3                 SATORIA Hotel Yogyakarta       Rp 495.868        4\n",
       "4          Arte Hotel Malioboro Yogyakarta       Rp 661.157        3\n",
       "..                                     ...              ...      ...\n",
       "230               PYRENEES Malioboro Hotel       Rp 703.525        2\n",
       "231                Rumah Palagan Residence       Rp 185.950        2\n",
       "232                     Tirta Sanita Hotel       Rp 132.231        1\n",
       "233            RedDoorz Plus @ Pogung Raya       Rp 136.001        2\n",
       "234  RedDoorz Syariah @ Babadan Baru Jakal       Rp 316.160        1\n",
       "\n",
       "[235 rows x 3 columns]"
      ]
     },
     "execution_count": 6,
     "metadata": {},
     "output_type": "execute_result"
    }
   ],
   "source": [
    "#del df\n",
    "df = pd.DataFrame(hotel)\n",
    "df"
   ]
  },
  {
   "cell_type": "code",
   "execution_count": 197,
   "id": "f8c8993a-f19d-4e92-866b-8703346913d3",
   "metadata": {},
   "outputs": [],
   "source": [
    "df.to_csv('Weekend Sept Week 1 Traveloka (Hotel Yogyakarta).csv', index=False)"
   ]
  }
 ],
 "metadata": {
  "kernelspec": {
   "display_name": "Python 3 (ipykernel)",
   "language": "python",
   "name": "python3"
  },
  "language_info": {
   "codemirror_mode": {
    "name": "ipython",
    "version": 3
   },
   "file_extension": ".py",
   "mimetype": "text/x-python",
   "name": "python",
   "nbconvert_exporter": "python",
   "pygments_lexer": "ipython3",
   "version": "3.12.0"
  }
 },
 "nbformat": 4,
 "nbformat_minor": 5
}
